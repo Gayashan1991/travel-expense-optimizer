{
 "cells": [
  {
   "cell_type": "code",
   "execution_count": 1,
   "id": "2edbc8f7-a34e-4bb3-938e-2654f2b0cc6f",
   "metadata": {},
   "outputs": [],
   "source": [
    "# Cell 1: Import necessary libraries\n",
    "import json\n",
    "import os"
   ]
  },
  {
   "cell_type": "code",
   "execution_count": null,
   "id": "2b7a4257-defc-4220-88bf-c26b4a35d618",
   "metadata": {},
   "outputs": [],
   "source": [
    "# Cell 2: Define the file path to the JSON input file\n",
    "user_input_file_path = os.path.join(\"data\", \"user_input.json\")\n"
   ]
  },
  {
   "cell_type": "code",
   "execution_count": null,
   "id": "46e24beb-a0eb-4b19-a757-aa328a0c217c",
   "metadata": {},
   "outputs": [],
   "source": [
    "# Cell 3: Function to load the user input from the JSON file\n",
    "def load_user_input(file_path):\n",
    "    \"\"\"Load user input from a JSON file.\"\"\"\n",
    "    try:\n",
    "        with open(file_path, \"r\") as file:\n",
    "            user_input = json.load(file)\n",
    "        return user_input\n",
    "    except FileNotFoundError:\n",
    "        print(f\"Error: The file {file_path} was not found.\")\n",
    "        return None\n",
    "    except json.JSONDecodeError:\n",
    "        print(f\"Error: Failed to decode JSON from {file_path}.\")\n",
    "        return None"
   ]
  },
  {
   "cell_type": "code",
   "execution_count": null,
   "id": "9d678d96-964a-44c2-aa72-df1be9b4913b",
   "metadata": {},
   "outputs": [],
   "source": [
    "# Cell 4: Function to display the loaded user input\n",
    "def display_user_input(user_input):\n",
    "    \"\"\"Display the loaded user input.\"\"\"\n",
    "    if user_input:\n",
    "        print(\"User Input Loaded Successfully:\\n\")\n",
    "        print(json.dumps(user_input, indent=4))\n",
    "    else:\n",
    "        print(\"No user input available.\")"
   ]
  },
  {
   "cell_type": "code",
   "execution_count": null,
   "id": "ee0e2f9b-50e5-4911-b862-774423791179",
   "metadata": {},
   "outputs": [],
   "source": [
    "# Cell 5: Load and display user input from the JSON file\n",
    "user_input = load_user_input(user_input_file_path)\n",
    "display_user_input(user_input)"
   ]
  }
 ],
 "metadata": {
  "kernelspec": {
   "display_name": "Python 3 (ipykernel)",
   "language": "python",
   "name": "python3"
  },
  "language_info": {
   "codemirror_mode": {
    "name": "ipython",
    "version": 3
   },
   "file_extension": ".py",
   "mimetype": "text/x-python",
   "name": "python",
   "nbconvert_exporter": "python",
   "pygments_lexer": "ipython3",
   "version": "3.11.3"
  }
 },
 "nbformat": 4,
 "nbformat_minor": 5
}
