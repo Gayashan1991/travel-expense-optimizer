{
 "cells": [
  {
   "cell_type": "code",
   "execution_count": null,
   "id": "07930898-6327-489f-a1ac-5f7f2734f486",
   "metadata": {},
   "outputs": [],
   "source": [
    "# Import necessary functions\n",
    "from apis.travel_expense_refiner import load_user_input, calculate_travel_expenses\n",
    "\n",
    "# Define API keys\n",
    "flight_api_key = \"YOUR_SKYSCANNER_API_KEY\"\n",
    "hotel_api_key = \"YOUR_BOOKING_COM_API_KEY\"\n",
    "google_maps_api_key = \"YOUR_GOOGLE_MAPS_API_KEY\"\n",
    "exchange_rate_api_key = \"YOUR_EXCHANGERATE_API_KEY\"\n",
    "\n",
    "# Load user input from the JSON file\n",
    "user_input_file_path = \"data/user_input.json\"\n",
    "user_input = load_user_input(user_input_file_path)\n",
    "\n",
    "# Calculate and display travel expenses\n",
    "if user_input:\n",
    "    calculate_travel_expenses(user_input, flight_api_key, hotel_api_key, google_maps_api_key, exchange_rate_api_key)\n"
   ]
  }
 ],
 "metadata": {
  "kernelspec": {
   "display_name": "Python 3 (ipykernel)",
   "language": "python",
   "name": "python3"
  },
  "language_info": {
   "codemirror_mode": {
    "name": "ipython",
    "version": 3
   },
   "file_extension": ".py",
   "mimetype": "text/x-python",
   "name": "python",
   "nbconvert_exporter": "python",
   "pygments_lexer": "ipython3",
   "version": "3.11.3"
  }
 },
 "nbformat": 4,
 "nbformat_minor": 5
}
